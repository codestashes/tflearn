{
  "nbformat": 4,
  "nbformat_minor": 0,
  "metadata": {
    "colab": {
      "name": "TensorTypes.ipynb",
      "provenance": [],
      "collapsed_sections": [],
      "authorship_tag": "ABX9TyNT6jrNZoSCtCabOk5JQh3n",
      "include_colab_link": true
    },
    "kernelspec": {
      "name": "python3",
      "display_name": "Python 3"
    },
    "language_info": {
      "name": "python"
    }
  },
  "cells": [
    {
      "cell_type": "markdown",
      "metadata": {
        "id": "view-in-github",
        "colab_type": "text"
      },
      "source": [
        "<a href=\"https://colab.research.google.com/github/codestashes/tflearn/blob/main/TensorTypes.ipynb\" target=\"_parent\"><img src=\"https://colab.research.google.com/assets/colab-badge.svg\" alt=\"Open In Colab\"/></a>"
      ]
    },
    {
      "cell_type": "code",
      "execution_count": 2,
      "metadata": {
        "id": "2Alb8KTLPh-l"
      },
      "outputs": [],
      "source": [
        "import tensorflow as tf"
      ]
    },
    {
      "cell_type": "code",
      "source": [
        "print(tf.__version__)"
      ],
      "metadata": {
        "colab": {
          "base_uri": "https://localhost:8080/"
        },
        "id": "BHrgqfnYPq-N",
        "outputId": "c41acb4b-7ce2-4e5c-8ce6-34f5a9686aa7"
      },
      "execution_count": 3,
      "outputs": [
        {
          "output_type": "stream",
          "name": "stdout",
          "text": [
            "2.7.0\n"
          ]
        }
      ]
    },
    {
      "cell_type": "code",
      "source": [
        "scalar = tf.constant(6)\n",
        "type(scalar)"
      ],
      "metadata": {
        "colab": {
          "base_uri": "https://localhost:8080/"
        },
        "id": "pcESNj7vXE4M",
        "outputId": "3b6c5a8b-187e-4117-c51c-c15d3dba102a"
      },
      "execution_count": 4,
      "outputs": [
        {
          "output_type": "execute_result",
          "data": {
            "text/plain": [
              "tensorflow.python.framework.ops.EagerTensor"
            ]
          },
          "metadata": {},
          "execution_count": 4
        }
      ]
    },
    {
      "cell_type": "code",
      "source": [
        "scalar"
      ],
      "metadata": {
        "colab": {
          "base_uri": "https://localhost:8080/"
        },
        "id": "e6_dpmGCXLuT",
        "outputId": "aa622ff0-70ed-42e2-e48f-f36847a3865f"
      },
      "execution_count": 5,
      "outputs": [
        {
          "output_type": "execute_result",
          "data": {
            "text/plain": [
              "<tf.Tensor: shape=(), dtype=int32, numpy=6>"
            ]
          },
          "metadata": {},
          "execution_count": 5
        }
      ]
    },
    {
      "cell_type": "code",
      "source": [
        "scalar.ndim"
      ],
      "metadata": {
        "colab": {
          "base_uri": "https://localhost:8080/"
        },
        "id": "B7k-bOgKXhx9",
        "outputId": "2c7ed733-646e-4bf8-c6ab-3f902dd6b815"
      },
      "execution_count": 6,
      "outputs": [
        {
          "output_type": "execute_result",
          "data": {
            "text/plain": [
              "0"
            ]
          },
          "metadata": {},
          "execution_count": 6
        }
      ]
    },
    {
      "cell_type": "code",
      "source": [
        "vec = tf.constant([10, 10])\n",
        "vec"
      ],
      "metadata": {
        "colab": {
          "base_uri": "https://localhost:8080/"
        },
        "id": "LX1x4DMZXmWM",
        "outputId": "cca91bf2-78d2-4b4c-b567-fe609cd83203"
      },
      "execution_count": 7,
      "outputs": [
        {
          "output_type": "execute_result",
          "data": {
            "text/plain": [
              "<tf.Tensor: shape=(2,), dtype=int32, numpy=array([10, 10], dtype=int32)>"
            ]
          },
          "metadata": {},
          "execution_count": 7
        }
      ]
    },
    {
      "cell_type": "code",
      "source": [
        "vec.ndim"
      ],
      "metadata": {
        "colab": {
          "base_uri": "https://localhost:8080/"
        },
        "id": "kEFeAcfLXs79",
        "outputId": "e00abf56-e2a9-4e41-d6e4-599c744a979a"
      },
      "execution_count": 8,
      "outputs": [
        {
          "output_type": "execute_result",
          "data": {
            "text/plain": [
              "1"
            ]
          },
          "metadata": {},
          "execution_count": 8
        }
      ]
    },
    {
      "cell_type": "code",
      "source": [
        "mat = tf.constant([[1, 2], [3,4]])\n",
        "mat"
      ],
      "metadata": {
        "colab": {
          "base_uri": "https://localhost:8080/"
        },
        "id": "PZUTijXJXzwu",
        "outputId": "c3c7acfb-068a-4f8f-bb6a-5a67a12a1448"
      },
      "execution_count": 9,
      "outputs": [
        {
          "output_type": "execute_result",
          "data": {
            "text/plain": [
              "<tf.Tensor: shape=(2, 2), dtype=int32, numpy=\n",
              "array([[1, 2],\n",
              "       [3, 4]], dtype=int32)>"
            ]
          },
          "metadata": {},
          "execution_count": 9
        }
      ]
    },
    {
      "cell_type": "code",
      "source": [
        "mat.ndim"
      ],
      "metadata": {
        "colab": {
          "base_uri": "https://localhost:8080/"
        },
        "id": "gkDW27coYIev",
        "outputId": "41d9289c-a115-4812-8698-cb006276e282"
      },
      "execution_count": 10,
      "outputs": [
        {
          "output_type": "execute_result",
          "data": {
            "text/plain": [
              "2"
            ]
          },
          "metadata": {},
          "execution_count": 10
        }
      ]
    },
    {
      "cell_type": "code",
      "source": [
        "mat1 = tf.constant([[5, 6], [7, 8]], dtype=tf.int16)\n",
        "print(mat1)\n",
        "mat1.ndim"
      ],
      "metadata": {
        "colab": {
          "base_uri": "https://localhost:8080/"
        },
        "id": "qcNsjUAVYZ2e",
        "outputId": "376cf1b7-4fda-493a-d272-025ff962b1d1"
      },
      "execution_count": 11,
      "outputs": [
        {
          "output_type": "stream",
          "name": "stdout",
          "text": [
            "tf.Tensor(\n",
            "[[5 6]\n",
            " [7 8]], shape=(2, 2), dtype=int16)\n"
          ]
        },
        {
          "output_type": "execute_result",
          "data": {
            "text/plain": [
              "2"
            ]
          },
          "metadata": {},
          "execution_count": 11
        }
      ]
    },
    {
      "cell_type": "code",
      "source": [
        "tensor1 = tf.constant([[[1, 2], [3, 4], [5, 6],\n",
        "                        [11, 12], [13, 14], [15, 16]],\n",
        "                       [[101, 102], [103, 104], [105, 106],\n",
        "                        [111, 112], [113, 114], [115, 116]],\n",
        "                       [[12, 22], [32, 42], [52, 62],\n",
        "                        [112, 122], [132, 142], [152, 162]],\n",
        "                       [[1001, 1002], [1003, 1004], [1005, 1006],\n",
        "                        [1011, 1012], [1013, 1014], [1015, 1016]],\n",
        "                       [[1, 2], [3, 4], [5, 6],\n",
        "                        [11, 12], [13, 14], [15, 16]],\n",
        "                       [[101, 102], [103, 104], [105, 106],\n",
        "                        [111, 112], [113, 114], [115, 116]],\n",
        "                       [[12, 22], [32, 42], [52, 62],\n",
        "                        [112, 122], [132, 142], [152, 162]],\n",
        "                       [[1001, 1002], [1003, 1004], [1005, 1006],\n",
        "                        [1011, 1012], [1013, 1014], [1015, 1016]]])\n",
        "tensor1.ndim"
      ],
      "metadata": {
        "colab": {
          "base_uri": "https://localhost:8080/"
        },
        "id": "4QOOj1K1ZOt8",
        "outputId": "63319910-001a-48d8-bd68-5dddff023501"
      },
      "execution_count": 12,
      "outputs": [
        {
          "output_type": "execute_result",
          "data": {
            "text/plain": [
              "3"
            ]
          },
          "metadata": {},
          "execution_count": 12
        }
      ]
    },
    {
      "cell_type": "code",
      "source": [
        "tensor1"
      ],
      "metadata": {
        "colab": {
          "base_uri": "https://localhost:8080/"
        },
        "id": "8Jrfv6jMZxbt",
        "outputId": "ff4ea891-125c-47cb-9234-4e987b6379ae"
      },
      "execution_count": 13,
      "outputs": [
        {
          "output_type": "execute_result",
          "data": {
            "text/plain": [
              "<tf.Tensor: shape=(8, 6, 2), dtype=int32, numpy=\n",
              "array([[[   1,    2],\n",
              "        [   3,    4],\n",
              "        [   5,    6],\n",
              "        [  11,   12],\n",
              "        [  13,   14],\n",
              "        [  15,   16]],\n",
              "\n",
              "       [[ 101,  102],\n",
              "        [ 103,  104],\n",
              "        [ 105,  106],\n",
              "        [ 111,  112],\n",
              "        [ 113,  114],\n",
              "        [ 115,  116]],\n",
              "\n",
              "       [[  12,   22],\n",
              "        [  32,   42],\n",
              "        [  52,   62],\n",
              "        [ 112,  122],\n",
              "        [ 132,  142],\n",
              "        [ 152,  162]],\n",
              "\n",
              "       [[1001, 1002],\n",
              "        [1003, 1004],\n",
              "        [1005, 1006],\n",
              "        [1011, 1012],\n",
              "        [1013, 1014],\n",
              "        [1015, 1016]],\n",
              "\n",
              "       [[   1,    2],\n",
              "        [   3,    4],\n",
              "        [   5,    6],\n",
              "        [  11,   12],\n",
              "        [  13,   14],\n",
              "        [  15,   16]],\n",
              "\n",
              "       [[ 101,  102],\n",
              "        [ 103,  104],\n",
              "        [ 105,  106],\n",
              "        [ 111,  112],\n",
              "        [ 113,  114],\n",
              "        [ 115,  116]],\n",
              "\n",
              "       [[  12,   22],\n",
              "        [  32,   42],\n",
              "        [  52,   62],\n",
              "        [ 112,  122],\n",
              "        [ 132,  142],\n",
              "        [ 152,  162]],\n",
              "\n",
              "       [[1001, 1002],\n",
              "        [1003, 1004],\n",
              "        [1005, 1006],\n",
              "        [1011, 1012],\n",
              "        [1013, 1014],\n",
              "        [1015, 1016]]], dtype=int32)>"
            ]
          },
          "metadata": {},
          "execution_count": 13
        }
      ]
    },
    {
      "cell_type": "code",
      "source": [
        "var_tensor = tf.Variable([1, 2])"
      ],
      "metadata": {
        "id": "idmt6Ewjci1q"
      },
      "execution_count": 14,
      "outputs": []
    },
    {
      "cell_type": "code",
      "source": [
        "var_tensor"
      ],
      "metadata": {
        "colab": {
          "base_uri": "https://localhost:8080/"
        },
        "id": "C2Q1XUvqcwJL",
        "outputId": "d64d161d-5b2b-416c-e18d-bfc70dbf0119"
      },
      "execution_count": 15,
      "outputs": [
        {
          "output_type": "execute_result",
          "data": {
            "text/plain": [
              "<tf.Variable 'Variable:0' shape=(2,) dtype=int32, numpy=array([1, 2], dtype=int32)>"
            ]
          },
          "metadata": {},
          "execution_count": 15
        }
      ]
    },
    {
      "cell_type": "code",
      "source": [
        "var_tensor[0].assign(25)\n",
        "var_tensor"
      ],
      "metadata": {
        "colab": {
          "base_uri": "https://localhost:8080/"
        },
        "id": "ZR9nqOI7c6Ds",
        "outputId": "390bc16b-ac69-4022-997f-791c1b774620"
      },
      "execution_count": 16,
      "outputs": [
        {
          "output_type": "execute_result",
          "data": {
            "text/plain": [
              "<tf.Variable 'Variable:0' shape=(2,) dtype=int32, numpy=array([25,  2], dtype=int32)>"
            ]
          },
          "metadata": {},
          "execution_count": 16
        }
      ]
    },
    {
      "cell_type": "code",
      "source": [
        "rand_t = tf.random.Generator.from_seed(42)"
      ],
      "metadata": {
        "id": "v0rlYv-fePrj"
      },
      "execution_count": 17,
      "outputs": []
    },
    {
      "cell_type": "code",
      "source": [
        "rand_t"
      ],
      "metadata": {
        "colab": {
          "base_uri": "https://localhost:8080/"
        },
        "id": "tZ6NfPX_fncA",
        "outputId": "ba379d7f-73bd-49ce-87f6-fa8e895d6b26"
      },
      "execution_count": 18,
      "outputs": [
        {
          "output_type": "execute_result",
          "data": {
            "text/plain": [
              "<tensorflow.python.ops.stateful_random_ops.Generator at 0x7fe2a9012a10>"
            ]
          },
          "metadata": {},
          "execution_count": 18
        }
      ]
    },
    {
      "cell_type": "code",
      "source": [
        "rand_t1 = rand_t.normal(shape=(3, 6))\n",
        "rand_t1"
      ],
      "metadata": {
        "colab": {
          "base_uri": "https://localhost:8080/"
        },
        "id": "2kHcpK-tfpZX",
        "outputId": "8c4431d3-75df-4983-999d-708cb07ffcc6"
      },
      "execution_count": 19,
      "outputs": [
        {
          "output_type": "execute_result",
          "data": {
            "text/plain": [
              "<tf.Tensor: shape=(3, 6), dtype=float32, numpy=\n",
              "array([[-0.7565803 , -0.06854702,  0.07595026, -1.2573844 , -0.23193763,\n",
              "        -1.8107855 ],\n",
              "       [ 0.09988727, -0.50998646, -0.7535805 , -0.57166284,  0.1480774 ,\n",
              "        -0.23362993],\n",
              "       [-0.3522796 ,  0.40621263, -1.0523509 ,  1.2054597 ,  1.6874489 ,\n",
              "        -0.4462975 ]], dtype=float32)>"
            ]
          },
          "metadata": {},
          "execution_count": 19
        }
      ]
    },
    {
      "cell_type": "code",
      "source": [
        "uni_rand_t = tf.random.uniform(shape=(6, 2))\n",
        "uni_rand_t"
      ],
      "metadata": {
        "colab": {
          "base_uri": "https://localhost:8080/"
        },
        "id": "DLzVNuuzgPti",
        "outputId": "c4360b00-5576-49b9-cbcf-2a7ef0431d3c"
      },
      "execution_count": 20,
      "outputs": [
        {
          "output_type": "execute_result",
          "data": {
            "text/plain": [
              "<tf.Tensor: shape=(6, 2), dtype=float32, numpy=\n",
              "array([[0.50988424, 0.6940812 ],\n",
              "       [0.26808643, 0.08117712],\n",
              "       [0.24004161, 0.4085058 ],\n",
              "       [0.83584964, 0.96037114],\n",
              "       [0.2708038 , 0.7918148 ],\n",
              "       [0.8817524 , 0.05122364]], dtype=float32)>"
            ]
          },
          "metadata": {},
          "execution_count": 20
        }
      ]
    },
    {
      "cell_type": "code",
      "source": [
        "rand_t2 = rand_t.normal(shape=(3, 6))\n",
        "rand_t2"
      ],
      "metadata": {
        "colab": {
          "base_uri": "https://localhost:8080/"
        },
        "id": "XFBtlIfegp7y",
        "outputId": "0281ebf8-5b00-46d7-d6f0-8b644cfabfeb"
      },
      "execution_count": 21,
      "outputs": [
        {
          "output_type": "execute_result",
          "data": {
            "text/plain": [
              "<tf.Tensor: shape=(3, 6), dtype=float32, numpy=\n",
              "array([[-0.50029814,  0.87708676, -0.60948575, -0.8924083 ,  0.31198648,\n",
              "         2.377529  ],\n",
              "       [-0.57386935, -0.52125114, -1.6117936 , -0.03135132,  1.3322345 ,\n",
              "        -1.3204538 ],\n",
              "       [-1.486233  ,  0.9383624 , -0.53740156,  0.6767252 ,  0.10983319,\n",
              "        -2.8096533 ]], dtype=float32)>"
            ]
          },
          "metadata": {},
          "execution_count": 21
        }
      ]
    },
    {
      "cell_type": "code",
      "source": [
        "rand_t1, rand_t2, rand_t1 == rand_t2"
      ],
      "metadata": {
        "colab": {
          "base_uri": "https://localhost:8080/"
        },
        "id": "X8lcXBcLhbeW",
        "outputId": "5d52f4e0-0e67-4bd8-b0d6-f1e65a7d9442"
      },
      "execution_count": 22,
      "outputs": [
        {
          "output_type": "execute_result",
          "data": {
            "text/plain": [
              "(<tf.Tensor: shape=(3, 6), dtype=float32, numpy=\n",
              " array([[-0.7565803 , -0.06854702,  0.07595026, -1.2573844 , -0.23193763,\n",
              "         -1.8107855 ],\n",
              "        [ 0.09988727, -0.50998646, -0.7535805 , -0.57166284,  0.1480774 ,\n",
              "         -0.23362993],\n",
              "        [-0.3522796 ,  0.40621263, -1.0523509 ,  1.2054597 ,  1.6874489 ,\n",
              "         -0.4462975 ]], dtype=float32)>,\n",
              " <tf.Tensor: shape=(3, 6), dtype=float32, numpy=\n",
              " array([[-0.50029814,  0.87708676, -0.60948575, -0.8924083 ,  0.31198648,\n",
              "          2.377529  ],\n",
              "        [-0.57386935, -0.52125114, -1.6117936 , -0.03135132,  1.3322345 ,\n",
              "         -1.3204538 ],\n",
              "        [-1.486233  ,  0.9383624 , -0.53740156,  0.6767252 ,  0.10983319,\n",
              "         -2.8096533 ]], dtype=float32)>,\n",
              " <tf.Tensor: shape=(3, 6), dtype=bool, numpy=\n",
              " array([[False, False, False, False, False, False],\n",
              "        [False, False, False, False, False, False],\n",
              "        [False, False, False, False, False, False]])>)"
            ]
          },
          "metadata": {},
          "execution_count": 22
        }
      ]
    },
    {
      "cell_type": "code",
      "source": [
        "not_shuffled = tf.constant([[1, 2], [3, 4], [5,6]])\n",
        "not_shuffled"
      ],
      "metadata": {
        "colab": {
          "base_uri": "https://localhost:8080/"
        },
        "id": "CeI2tuA89B9y",
        "outputId": "67fb4d98-6137-45e9-8827-3dfeaf31347a"
      },
      "execution_count": 23,
      "outputs": [
        {
          "output_type": "execute_result",
          "data": {
            "text/plain": [
              "<tf.Tensor: shape=(3, 2), dtype=int32, numpy=\n",
              "array([[1, 2],\n",
              "       [3, 4],\n",
              "       [5, 6]], dtype=int32)>"
            ]
          },
          "metadata": {},
          "execution_count": 23
        }
      ]
    },
    {
      "cell_type": "code",
      "source": [
        "tf.random.shuffle(not_shuffled, seed=2)"
      ],
      "metadata": {
        "colab": {
          "base_uri": "https://localhost:8080/"
        },
        "id": "C_ztEVvv9XPa",
        "outputId": "2a8ec1b0-d42e-44a5-c357-d0ad677943a8"
      },
      "execution_count": 24,
      "outputs": [
        {
          "output_type": "execute_result",
          "data": {
            "text/plain": [
              "<tf.Tensor: shape=(3, 2), dtype=int32, numpy=\n",
              "array([[1, 2],\n",
              "       [3, 4],\n",
              "       [5, 6]], dtype=int32)>"
            ]
          },
          "metadata": {},
          "execution_count": 24
        }
      ]
    },
    {
      "cell_type": "code",
      "source": [
        "tf.random.set_seed(2)\n",
        "tf.random.shuffle(not_shuffled)"
      ],
      "metadata": {
        "colab": {
          "base_uri": "https://localhost:8080/"
        },
        "id": "iMXc0UqW964L",
        "outputId": "d8b40724-f273-4278-eba5-060a1c813910"
      },
      "execution_count": 25,
      "outputs": [
        {
          "output_type": "execute_result",
          "data": {
            "text/plain": [
              "<tf.Tensor: shape=(3, 2), dtype=int32, numpy=\n",
              "array([[5, 6],\n",
              "       [3, 4],\n",
              "       [1, 2]], dtype=int32)>"
            ]
          },
          "metadata": {},
          "execution_count": 25
        }
      ]
    },
    {
      "cell_type": "code",
      "source": [
        "tf.ones([2, 5], dtype=tf.int16)"
      ],
      "metadata": {
        "colab": {
          "base_uri": "https://localhost:8080/"
        },
        "id": "I0QjDLEgR57d",
        "outputId": "416a11cc-a75b-4783-8120-99e664837248"
      },
      "execution_count": 26,
      "outputs": [
        {
          "output_type": "execute_result",
          "data": {
            "text/plain": [
              "<tf.Tensor: shape=(2, 5), dtype=int16, numpy=\n",
              "array([[1, 1, 1, 1, 1],\n",
              "       [1, 1, 1, 1, 1]], dtype=int16)>"
            ]
          },
          "metadata": {},
          "execution_count": 26
        }
      ]
    },
    {
      "cell_type": "code",
      "source": [
        "tf.zeros([5, 1])"
      ],
      "metadata": {
        "colab": {
          "base_uri": "https://localhost:8080/"
        },
        "id": "-Tq1dQOATRKg",
        "outputId": "f3d17229-f5ae-415c-fe27-be44093ba65f"
      },
      "execution_count": 27,
      "outputs": [
        {
          "output_type": "execute_result",
          "data": {
            "text/plain": [
              "<tf.Tensor: shape=(5, 1), dtype=float32, numpy=\n",
              "array([[0.],\n",
              "       [0.],\n",
              "       [0.],\n",
              "       [0.],\n",
              "       [0.]], dtype=float32)>"
            ]
          },
          "metadata": {},
          "execution_count": 27
        }
      ]
    },
    {
      "cell_type": "code",
      "source": [
        "tf.ones(shape=(2, 3))"
      ],
      "metadata": {
        "colab": {
          "base_uri": "https://localhost:8080/"
        },
        "id": "aM6KaGnGTsoQ",
        "outputId": "613cb60d-24d6-4271-ccd8-ee9897d8e17e"
      },
      "execution_count": 28,
      "outputs": [
        {
          "output_type": "execute_result",
          "data": {
            "text/plain": [
              "<tf.Tensor: shape=(2, 3), dtype=float32, numpy=\n",
              "array([[1., 1., 1.],\n",
              "       [1., 1., 1.]], dtype=float32)>"
            ]
          },
          "metadata": {},
          "execution_count": 28
        }
      ]
    },
    {
      "cell_type": "code",
      "source": [
        "import numpy as np\n",
        "np_arr = np.arange(1, 25)\n",
        "np_arr"
      ],
      "metadata": {
        "colab": {
          "base_uri": "https://localhost:8080/"
        },
        "id": "nY9D3eXZUdYB",
        "outputId": "4f7f4244-0676-49ab-a57b-49202a2f9107"
      },
      "execution_count": 29,
      "outputs": [
        {
          "output_type": "execute_result",
          "data": {
            "text/plain": [
              "array([ 1,  2,  3,  4,  5,  6,  7,  8,  9, 10, 11, 12, 13, 14, 15, 16, 17,\n",
              "       18, 19, 20, 21, 22, 23, 24])"
            ]
          },
          "metadata": {},
          "execution_count": 29
        }
      ]
    },
    {
      "cell_type": "code",
      "source": [
        "A = tf.constant(np_arr)\n",
        "A"
      ],
      "metadata": {
        "colab": {
          "base_uri": "https://localhost:8080/"
        },
        "id": "tGDEhpPiUnY7",
        "outputId": "65a67be6-d534-45c0-c35b-f0618201f3e4"
      },
      "execution_count": 30,
      "outputs": [
        {
          "output_type": "execute_result",
          "data": {
            "text/plain": [
              "<tf.Tensor: shape=(24,), dtype=int64, numpy=\n",
              "array([ 1,  2,  3,  4,  5,  6,  7,  8,  9, 10, 11, 12, 13, 14, 15, 16, 17,\n",
              "       18, 19, 20, 21, 22, 23, 24])>"
            ]
          },
          "metadata": {},
          "execution_count": 30
        }
      ]
    },
    {
      "cell_type": "code",
      "source": [
        "B = tf.constant(np_arr, shape=(3, 2, 4))\n",
        "B"
      ],
      "metadata": {
        "colab": {
          "base_uri": "https://localhost:8080/"
        },
        "id": "zW5TkW4SUycD",
        "outputId": "24b1440e-1737-46ce-d57a-0baebfc607ee"
      },
      "execution_count": 31,
      "outputs": [
        {
          "output_type": "execute_result",
          "data": {
            "text/plain": [
              "<tf.Tensor: shape=(3, 2, 4), dtype=int64, numpy=\n",
              "array([[[ 1,  2,  3,  4],\n",
              "        [ 5,  6,  7,  8]],\n",
              "\n",
              "       [[ 9, 10, 11, 12],\n",
              "        [13, 14, 15, 16]],\n",
              "\n",
              "       [[17, 18, 19, 20],\n",
              "        [21, 22, 23, 24]]])>"
            ]
          },
          "metadata": {},
          "execution_count": 31
        }
      ]
    },
    {
      "cell_type": "code",
      "source": [
        "C = tf.constant(np_arr, shape=(6, 4))\n",
        "C"
      ],
      "metadata": {
        "colab": {
          "base_uri": "https://localhost:8080/"
        },
        "id": "Z4K5rNxcU92r",
        "outputId": "793a247a-a3e2-4b80-b888-f55410495478"
      },
      "execution_count": 32,
      "outputs": [
        {
          "output_type": "execute_result",
          "data": {
            "text/plain": [
              "<tf.Tensor: shape=(6, 4), dtype=int64, numpy=\n",
              "array([[ 1,  2,  3,  4],\n",
              "       [ 5,  6,  7,  8],\n",
              "       [ 9, 10, 11, 12],\n",
              "       [13, 14, 15, 16],\n",
              "       [17, 18, 19, 20],\n",
              "       [21, 22, 23, 24]])>"
            ]
          },
          "metadata": {},
          "execution_count": 32
        }
      ]
    },
    {
      "cell_type": "code",
      "source": [
        "C.ndim"
      ],
      "metadata": {
        "colab": {
          "base_uri": "https://localhost:8080/"
        },
        "id": "GlpoTgJDVMQb",
        "outputId": "7b03adb4-73f5-4231-91aa-31b9d4b72e96"
      },
      "execution_count": 33,
      "outputs": [
        {
          "output_type": "execute_result",
          "data": {
            "text/plain": [
              "2"
            ]
          },
          "metadata": {},
          "execution_count": 33
        }
      ]
    },
    {
      "cell_type": "code",
      "source": [
        "tf.size(B)"
      ],
      "metadata": {
        "colab": {
          "base_uri": "https://localhost:8080/"
        },
        "id": "uNjoP2h0Vz0N",
        "outputId": "63278017-2ee9-426e-a05b-fa17e15eb1d2"
      },
      "execution_count": 34,
      "outputs": [
        {
          "output_type": "execute_result",
          "data": {
            "text/plain": [
              "<tf.Tensor: shape=(), dtype=int32, numpy=24>"
            ]
          },
          "metadata": {},
          "execution_count": 34
        }
      ]
    },
    {
      "cell_type": "code",
      "source": [
        "B[2, 0]"
      ],
      "metadata": {
        "colab": {
          "base_uri": "https://localhost:8080/"
        },
        "id": "H1GjbpoeV2x1",
        "outputId": "06e04a38-26fa-471d-e366-8d3ec86b175a"
      },
      "execution_count": 35,
      "outputs": [
        {
          "output_type": "execute_result",
          "data": {
            "text/plain": [
              "<tf.Tensor: shape=(4,), dtype=int64, numpy=array([17, 18, 19, 20])>"
            ]
          },
          "metadata": {},
          "execution_count": 35
        }
      ]
    },
    {
      "cell_type": "code",
      "source": [
        "A.shape, B.ndim, tf.size(C)"
      ],
      "metadata": {
        "colab": {
          "base_uri": "https://localhost:8080/"
        },
        "id": "Ob8vzm8jWPwP",
        "outputId": "f644d36e-4d56-4b89-d63f-479882141308"
      },
      "execution_count": 36,
      "outputs": [
        {
          "output_type": "execute_result",
          "data": {
            "text/plain": [
              "(TensorShape([24]), 3, <tf.Tensor: shape=(), dtype=int32, numpy=24>)"
            ]
          },
          "metadata": {},
          "execution_count": 36
        }
      ]
    },
    {
      "cell_type": "code",
      "source": [
        "tf.size(B)"
      ],
      "metadata": {
        "colab": {
          "base_uri": "https://localhost:8080/"
        },
        "id": "vfIdnwKYXczb",
        "outputId": "8f04bf09-b499-49bb-85e1-6a8354d66b2c"
      },
      "execution_count": 37,
      "outputs": [
        {
          "output_type": "execute_result",
          "data": {
            "text/plain": [
              "<tf.Tensor: shape=(), dtype=int32, numpy=24>"
            ]
          },
          "metadata": {},
          "execution_count": 37
        }
      ]
    },
    {
      "cell_type": "code",
      "source": [
        "tf.size(B).numpy()"
      ],
      "metadata": {
        "colab": {
          "base_uri": "https://localhost:8080/"
        },
        "id": "oZV11K-lXmJT",
        "outputId": "06d03cd7-acc4-4f33-d3a2-a201ca775cb4"
      },
      "execution_count": 38,
      "outputs": [
        {
          "output_type": "execute_result",
          "data": {
            "text/plain": [
              "24"
            ]
          },
          "metadata": {},
          "execution_count": 38
        }
      ]
    },
    {
      "cell_type": "code",
      "source": [
        "A.shape[0]"
      ],
      "metadata": {
        "colab": {
          "base_uri": "https://localhost:8080/"
        },
        "id": "_V87hl4BWuWI",
        "outputId": "c92e150f-68dc-4178-a284-23254f725105"
      },
      "execution_count": 39,
      "outputs": [
        {
          "output_type": "execute_result",
          "data": {
            "text/plain": [
              "24"
            ]
          },
          "metadata": {},
          "execution_count": 39
        }
      ]
    },
    {
      "cell_type": "code",
      "source": [
        "B.shape[-1]"
      ],
      "metadata": {
        "colab": {
          "base_uri": "https://localhost:8080/"
        },
        "id": "mMzGuEAgXJUZ",
        "outputId": "8c0b9501-fe7b-4f76-da60-3f1fb4ca935b"
      },
      "execution_count": 40,
      "outputs": [
        {
          "output_type": "execute_result",
          "data": {
            "text/plain": [
              "4"
            ]
          },
          "metadata": {},
          "execution_count": 40
        }
      ]
    },
    {
      "cell_type": "code",
      "source": [
        "C.shape[1]"
      ],
      "metadata": {
        "colab": {
          "base_uri": "https://localhost:8080/"
        },
        "id": "AKObWV9WWznK",
        "outputId": "94e1c708-832e-4784-dde8-17881e3a725a"
      },
      "execution_count": 41,
      "outputs": [
        {
          "output_type": "execute_result",
          "data": {
            "text/plain": [
              "4"
            ]
          },
          "metadata": {},
          "execution_count": 41
        }
      ]
    },
    {
      "cell_type": "code",
      "source": [
        "A1 = [1, 2, 3, 4, 5]\n",
        "A1[:2]"
      ],
      "metadata": {
        "colab": {
          "base_uri": "https://localhost:8080/"
        },
        "id": "qUY4XexQfMkM",
        "outputId": "21727bd0-1779-4739-e525-15c5e9765584"
      },
      "execution_count": 42,
      "outputs": [
        {
          "output_type": "execute_result",
          "data": {
            "text/plain": [
              "[1, 2]"
            ]
          },
          "metadata": {},
          "execution_count": 42
        }
      ]
    },
    {
      "cell_type": "code",
      "source": [
        "C1 = C[:2]\n",
        "C1"
      ],
      "metadata": {
        "colab": {
          "base_uri": "https://localhost:8080/"
        },
        "id": "iy6GTdU5fTWt",
        "outputId": "ce552a4d-1e96-4a46-be3b-1c1ab53ec0f2"
      },
      "execution_count": 43,
      "outputs": [
        {
          "output_type": "execute_result",
          "data": {
            "text/plain": [
              "<tf.Tensor: shape=(2, 4), dtype=int64, numpy=\n",
              "array([[1, 2, 3, 4],\n",
              "       [5, 6, 7, 8]])>"
            ]
          },
          "metadata": {},
          "execution_count": 43
        }
      ]
    },
    {
      "cell_type": "code",
      "source": [
        "C2 = C[1:3, 2:3]\n",
        "C2"
      ],
      "metadata": {
        "colab": {
          "base_uri": "https://localhost:8080/"
        },
        "id": "NmlnKXh1fYjV",
        "outputId": "10794e8e-a15a-4121-f43f-aed377cd38ee"
      },
      "execution_count": 44,
      "outputs": [
        {
          "output_type": "execute_result",
          "data": {
            "text/plain": [
              "<tf.Tensor: shape=(2, 1), dtype=int64, numpy=\n",
              "array([[ 7],\n",
              "       [11]])>"
            ]
          },
          "metadata": {},
          "execution_count": 44
        }
      ]
    },
    {
      "cell_type": "code",
      "source": [
        "r2_tensor = tf.constant([[5, 6], [2, 3], [7, 9],\n",
        "                         [15, 16], [12, 13], [17, 19]])\n",
        "r2_tensor"
      ],
      "metadata": {
        "colab": {
          "base_uri": "https://localhost:8080/"
        },
        "id": "PtCClP2dgdgY",
        "outputId": "2268c5db-248f-4d8f-e540-cab1eba9ba8a"
      },
      "execution_count": 45,
      "outputs": [
        {
          "output_type": "execute_result",
          "data": {
            "text/plain": [
              "<tf.Tensor: shape=(6, 2), dtype=int32, numpy=\n",
              "array([[ 5,  6],\n",
              "       [ 2,  3],\n",
              "       [ 7,  9],\n",
              "       [15, 16],\n",
              "       [12, 13],\n",
              "       [17, 19]], dtype=int32)>"
            ]
          },
          "metadata": {},
          "execution_count": 45
        }
      ]
    },
    {
      "cell_type": "code",
      "source": [
        "r2_tensor[:, :1]"
      ],
      "metadata": {
        "colab": {
          "base_uri": "https://localhost:8080/"
        },
        "id": "vGsJF2IMhCIc",
        "outputId": "9ce4974c-a89f-4588-ff64-393595e06175"
      },
      "execution_count": 46,
      "outputs": [
        {
          "output_type": "execute_result",
          "data": {
            "text/plain": [
              "<tf.Tensor: shape=(6, 1), dtype=int32, numpy=\n",
              "array([[ 5],\n",
              "       [ 2],\n",
              "       [ 7],\n",
              "       [15],\n",
              "       [12],\n",
              "       [17]], dtype=int32)>"
            ]
          },
          "metadata": {},
          "execution_count": 46
        }
      ]
    },
    {
      "cell_type": "code",
      "source": [
        "r2_tensor[:, -1]"
      ],
      "metadata": {
        "colab": {
          "base_uri": "https://localhost:8080/"
        },
        "id": "BLBihkLWhMON",
        "outputId": "34bc22a9-3669-43a6-e672-bd6ad2b77510"
      },
      "execution_count": 47,
      "outputs": [
        {
          "output_type": "execute_result",
          "data": {
            "text/plain": [
              "<tf.Tensor: shape=(6,), dtype=int32, numpy=array([ 6,  3,  9, 16, 13, 19], dtype=int32)>"
            ]
          },
          "metadata": {},
          "execution_count": 47
        }
      ]
    },
    {
      "cell_type": "code",
      "source": [
        "r3_tensor = r2_tensor[..., tf.newaxis]\n",
        "r3_tensor"
      ],
      "metadata": {
        "colab": {
          "base_uri": "https://localhost:8080/"
        },
        "id": "xLT0E3Vuhg_F",
        "outputId": "7ab655d3-c7e1-46bc-d11d-c0922564aaab"
      },
      "execution_count": 48,
      "outputs": [
        {
          "output_type": "execute_result",
          "data": {
            "text/plain": [
              "<tf.Tensor: shape=(6, 2, 1), dtype=int32, numpy=\n",
              "array([[[ 5],\n",
              "        [ 6]],\n",
              "\n",
              "       [[ 2],\n",
              "        [ 3]],\n",
              "\n",
              "       [[ 7],\n",
              "        [ 9]],\n",
              "\n",
              "       [[15],\n",
              "        [16]],\n",
              "\n",
              "       [[12],\n",
              "        [13]],\n",
              "\n",
              "       [[17],\n",
              "        [19]]], dtype=int32)>"
            ]
          },
          "metadata": {},
          "execution_count": 48
        }
      ]
    },
    {
      "cell_type": "code",
      "source": [
        "tf.expand_dims(r3_tensor, axis=-1)"
      ],
      "metadata": {
        "colab": {
          "base_uri": "https://localhost:8080/"
        },
        "id": "qS0sm_XNiueG",
        "outputId": "98b04381-8eb7-42ef-ee9c-bbd867dbfe0e"
      },
      "execution_count": 49,
      "outputs": [
        {
          "output_type": "execute_result",
          "data": {
            "text/plain": [
              "<tf.Tensor: shape=(6, 2, 1, 1), dtype=int32, numpy=\n",
              "array([[[[ 5]],\n",
              "\n",
              "        [[ 6]]],\n",
              "\n",
              "\n",
              "       [[[ 2]],\n",
              "\n",
              "        [[ 3]]],\n",
              "\n",
              "\n",
              "       [[[ 7]],\n",
              "\n",
              "        [[ 9]]],\n",
              "\n",
              "\n",
              "       [[[15]],\n",
              "\n",
              "        [[16]]],\n",
              "\n",
              "\n",
              "       [[[12]],\n",
              "\n",
              "        [[13]]],\n",
              "\n",
              "\n",
              "       [[[17]],\n",
              "\n",
              "        [[19]]]], dtype=int32)>"
            ]
          },
          "metadata": {},
          "execution_count": 49
        }
      ]
    },
    {
      "cell_type": "code",
      "source": [
        "tf.expand_dims(r2_tensor, axis=0)"
      ],
      "metadata": {
        "colab": {
          "base_uri": "https://localhost:8080/"
        },
        "id": "iyOgXgCIi2XH",
        "outputId": "ccc9ff16-ff85-455c-9d90-b5eeb911308c"
      },
      "execution_count": 50,
      "outputs": [
        {
          "output_type": "execute_result",
          "data": {
            "text/plain": [
              "<tf.Tensor: shape=(1, 6, 2), dtype=int32, numpy=\n",
              "array([[[ 5,  6],\n",
              "        [ 2,  3],\n",
              "        [ 7,  9],\n",
              "        [15, 16],\n",
              "        [12, 13],\n",
              "        [17, 19]]], dtype=int32)>"
            ]
          },
          "metadata": {},
          "execution_count": 50
        }
      ]
    },
    {
      "cell_type": "code",
      "source": [
        "exp_r2 = tf.expand_dims(r2_tensor, axis=1)\n",
        "exp_r2"
      ],
      "metadata": {
        "colab": {
          "base_uri": "https://localhost:8080/"
        },
        "id": "pdcmV0cqOz9L",
        "outputId": "6e3b5d7e-dd9c-43ba-dba4-fd83c68ce656"
      },
      "execution_count": 54,
      "outputs": [
        {
          "output_type": "execute_result",
          "data": {
            "text/plain": [
              "<tf.Tensor: shape=(6, 1, 2), dtype=int32, numpy=\n",
              "array([[[ 5,  6]],\n",
              "\n",
              "       [[ 2,  3]],\n",
              "\n",
              "       [[ 7,  9]],\n",
              "\n",
              "       [[15, 16]],\n",
              "\n",
              "       [[12, 13]],\n",
              "\n",
              "       [[17, 19]]], dtype=int32)>"
            ]
          },
          "metadata": {},
          "execution_count": 54
        }
      ]
    },
    {
      "cell_type": "code",
      "source": [
        "r2_tensor.shape"
      ],
      "metadata": {
        "colab": {
          "base_uri": "https://localhost:8080/"
        },
        "id": "M83YIUA1Prhy",
        "outputId": "49b14b05-3cac-4edc-c9fd-3c4d5f25f92f"
      },
      "execution_count": 52,
      "outputs": [
        {
          "output_type": "execute_result",
          "data": {
            "text/plain": [
              "TensorShape([6, 2])"
            ]
          },
          "metadata": {},
          "execution_count": 52
        }
      ]
    }
  ]
}