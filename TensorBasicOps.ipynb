{
  "nbformat": 4,
  "nbformat_minor": 0,
  "metadata": {
    "colab": {
      "name": "TensorBasicOps",
      "provenance": [],
      "authorship_tag": "ABX9TyNpk77Sy6Ux+HcgGfKoETuw",
      "include_colab_link": true
    },
    "kernelspec": {
      "name": "python3",
      "display_name": "Python 3"
    },
    "language_info": {
      "name": "python"
    }
  },
  "cells": [
    {
      "cell_type": "markdown",
      "metadata": {
        "id": "view-in-github",
        "colab_type": "text"
      },
      "source": [
        "<a href=\"https://colab.research.google.com/github/codestashes/tflearn/blob/main/TensorBasicOps.ipynb\" target=\"_parent\"><img src=\"https://colab.research.google.com/assets/colab-badge.svg\" alt=\"Open In Colab\"/></a>"
      ]
    },
    {
      "cell_type": "code",
      "execution_count": null,
      "metadata": {
        "id": "g8-Nq8yt-AZw"
      },
      "outputs": [],
      "source": [
        "import tensorflow as tf"
      ]
    },
    {
      "cell_type": "code",
      "source": [
        "tgen = tf.random.Generator.from_seed(42)\n",
        "t1 = tgen.normal((5, 4))\n",
        "t1"
      ],
      "metadata": {
        "id": "GiA9McZY-FQa"
      },
      "execution_count": null,
      "outputs": []
    }
  ]
}